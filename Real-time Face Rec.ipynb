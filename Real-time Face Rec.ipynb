{
 "cells": [
  {
   "cell_type": "markdown",
   "metadata": {
    "deletable": true,
    "editable": true
   },
   "source": [
    "# Real-Time Face Recognition"
   ]
  },
  {
   "cell_type": "markdown",
   "metadata": {
    "deletable": true,
    "editable": true
   },
   "source": [
    "## First we create the model"
   ]
  },
  {
   "cell_type": "code",
   "execution_count": 11,
   "metadata": {
    "collapsed": true,
    "deletable": true,
    "editable": true
   },
   "outputs": [],
   "source": [
    "import pickle\n",
    "from math import sqrt\n",
    "from os import listdir\n",
    "import face_recognition\n",
    "from sklearn import neighbors\n",
    "from face_recognition import face_locations\n",
    "from os.path import isdir, join, isfile, splitext\n",
    "from PIL import Image, ImageFont, ImageDraw, ImageEnhance\n",
    "from face_recognition.face_recognition_cli import image_files_in_folder"
   ]
  },
  {
   "cell_type": "code",
   "execution_count": 12,
   "metadata": {
    "collapsed": true,
    "deletable": true,
    "editable": true
   },
   "outputs": [],
   "source": [
    "ALLOWED_EXTENSIONS = {'png', 'jpg', 'jpeg'}\n",
    "train_dir = 'faces/train'\n",
    "test_dir = 'faces/test'"
   ]
  },
  {
   "cell_type": "code",
   "execution_count": 13,
   "metadata": {
    "collapsed": true,
    "deletable": true,
    "editable": true
   },
   "outputs": [],
   "source": [
    "def train(train_dir, model_save_path = \"knn_model.sav\", n_neighbors = None, knn_algo = 'ball_tree', verbose = False):\n",
    "    \"\"\"\n",
    "    Trains a k-nearest neighbors classifier for face recognition.\n",
    "    :param train_dir: directory that contains a sub-directory for each known person, with its name.\n",
    "     (View in source code to see train_dir example tree structure)\n",
    "     Structure:\n",
    "        <train_dir>/\n",
    "        ├── <person1>/\n",
    "        │   ├── <somename1>.jpeg\n",
    "        │   ├── <somename2>.jpeg\n",
    "        │   ├── ...\n",
    "        ├── <person2>/\n",
    "        │   ├── <somename1>.jpeg\n",
    "        │   └── <somename2>.jpeg\n",
    "        └── ...\n",
    "    :param model_save_path: (optional) path to save model of disk\n",
    "    :param n_neighbors: (optional) number of neighbors to weigh in classification. Chosen automatically if not specified.\n",
    "    :param knn_algo: (optional) underlying data structure to support knn.default is ball_tree\n",
    "    :param verbose: verbosity of training\n",
    "    :return: returns knn classifier that was trained on the given data.\n",
    "    \"\"\"\n",
    "    X = []\n",
    "    y = []\n",
    "    \n",
    "    print('Processing images for training...')\n",
    "    for class_dir in listdir(train_dir):\n",
    "        if not isdir(join(train_dir, class_dir)):\n",
    "            continue\n",
    "        for img_path in image_files_in_folder(join(train_dir, class_dir)):\n",
    "            image = face_recognition.load_image_file(img_path)\n",
    "            faces_bboxes = face_locations(image)\n",
    "            if len(faces_bboxes) != 1:\n",
    "                if verbose:\n",
    "                    print(\"image {} not fit for training: {}\".format(img_path, \"didn't find a face\" if len(faces_bboxes) < 1 else \"found more than one face\"))\n",
    "                continue\n",
    "            X.append(face_recognition.face_encodings(image, known_face_locations = faces_bboxes)[0])\n",
    "            y.append(class_dir)\n",
    "\n",
    "\n",
    "    if n_neighbors is None:\n",
    "        n_neighbors = int(round(sqrt(len(X))))\n",
    "        if verbose:\n",
    "            print(\"Chose n_neighbors automatically as: \", n_neighbors)\n",
    "    \n",
    "    print('Training classifier...')\n",
    "    knn_clf = neighbors.KNeighborsClassifier(n_neighbors = n_neighbors, algorithm = knn_algo, weights = 'distance')\n",
    "    knn_clf.fit(X, y)\n",
    "    \n",
    "    # Save the trained model\n",
    "    if model_save_path != '':\n",
    "        with open(model_save_path, 'wb') as f:\n",
    "            pickle.dump(knn_clf, f)\n",
    "    \n",
    "    print('Done')\n",
    "    \n",
    "    return knn_clf"
   ]
  },
  {
   "cell_type": "markdown",
   "metadata": {
    "deletable": true,
    "editable": true
   },
   "source": [
    "### Then we train the model"
   ]
  },
  {
   "cell_type": "code",
   "execution_count": 15,
   "metadata": {
    "collapsed": false,
    "deletable": true,
    "editable": true
   },
   "outputs": [
    {
     "name": "stdout",
     "output_type": "stream",
     "text": [
      "Processing images for training...\n",
      "Training classifier...\n",
      "Done\n"
     ]
    }
   ],
   "source": [
    "knn_clf = train(train_dir)"
   ]
  },
  {
   "cell_type": "markdown",
   "metadata": {},
   "source": [
    "### We can go ahead and test the model"
   ]
  },
  {
   "cell_type": "markdown",
   "metadata": {
    "deletable": true,
    "editable": true
   },
   "source": [
    "#### 'predict' and 'draw_preds' are just to help test the training model"
   ]
  },
  {
   "cell_type": "code",
   "execution_count": 16,
   "metadata": {
    "collapsed": true,
    "deletable": true,
    "editable": true
   },
   "outputs": [],
   "source": [
    "def predict(X_img_path, knn_clf = None, model_save_path = 'knn_model.sav', DIST_THRESH = 0.5):\n",
    "    \"\"\"\n",
    "    recognizes faces in given image, based on a trained knn classifier\n",
    "    :param X_img_path: path to image to be recognized\n",
    "    :param knn_clf: (optional) a knn classifier object. If not specified, model_save_path must be specified.\n",
    "    :param model_save_path: (optional) path to a pickled knn classifier. If not specified, model_save_path must be knn_clf.\n",
    "    :param DIST_THRESH: (optional) distance threshold in knn classification. The larger it is, the higher chance of misclassifying an unknown person to a known one.\n",
    "    :return: a list of names and face locations for the recognized faces in the image: [(name, bounding box), ...].\n",
    "        For faces of unrecognized persons, the 'Unknown' will be passed.\n",
    "    \"\"\"\n",
    "\n",
    "    if not isfile(X_img_path) or splitext(X_img_path)[1][1:] not in ALLOWED_EXTENSIONS:\n",
    "        raise Exception(\"Invalid image path: {}\".format(X_img_path))\n",
    "\n",
    "    if knn_clf is None and model_save_path == \"knn_model.sav\":\n",
    "        raise Exception(\"Must supply knn classifier either through knn_clf or model_save_path\")\n",
    "\n",
    "    if knn_clf is None:\n",
    "        with open(model_save_path, 'rb') as f:\n",
    "            knn_clf = pickle.load(f)\n",
    "\n",
    "    X_img = face_recognition.load_image_file(X_img_path)\n",
    "    X_faces_loc = face_locations(X_img)\n",
    "    if len(X_faces_loc) == 0:\n",
    "        return []\n",
    "\n",
    "    faces_encodings = face_recognition.face_encodings(X_img, known_face_locations=X_faces_loc)\n",
    "\n",
    "    closest_distances = knn_clf.kneighbors(faces_encodings, n_neighbors = 1)\n",
    "\n",
    "    is_recognized = [closest_distances[0][i][0] <= DIST_THRESH for i in range(len(X_faces_loc))]\n",
    "    \n",
    "    # predict classes and cull classifications that are not with high confidence\n",
    "    return [(pred, loc) if rec else ('Unknown', loc) for pred, loc, rec in zip(knn_clf.predict(faces_encodings), X_faces_loc, is_recognized)]"
   ]
  },
  {
   "cell_type": "code",
   "execution_count": 17,
   "metadata": {
    "collapsed": true,
    "deletable": true,
    "editable": true
   },
   "outputs": [],
   "source": [
    "def draw_preds(img_path, preds):\n",
    "    \"\"\"\n",
    "    shows the face recognition results visually.\n",
    "    :param img_path: path to image to be recognized\n",
    "    :param preds: results of the predict function\n",
    "    :return:\n",
    "    \"\"\"\n",
    "    source_img = Image.open(img_path).convert(\"RGBA\")\n",
    "    draw = ImageDraw.Draw(source_img)\n",
    "    for pred in preds:\n",
    "        loc = pred[1]\n",
    "        name = pred[0]\n",
    "        draw.rectangle(((loc[3], loc[0]), (loc[1],loc[2])), outline=\"red\")\n",
    "        draw.text((loc[3], loc[0] - 30), name, font = ImageFont.truetype('arial.ttf', 30), fill = (255,255,255,0))\n",
    "    source_img.show()"
   ]
  },
  {
   "cell_type": "code",
   "execution_count": 18,
   "metadata": {
    "collapsed": false
   },
   "outputs": [],
   "source": [
    "# First we load the trained model\n",
    "knn_clf = pickle.load(open('knn_model.sav', 'rb'))\n",
    "\n",
    "# Then we test it\n",
    "for img_path in listdir(test_dir):\n",
    "    preds = predict(join(test_dir, img_path) ,knn_clf = knn_clf)\n",
    "    draw_preds(join(test_dir, img_path), preds)"
   ]
  },
  {
   "cell_type": "markdown",
   "metadata": {
    "deletable": true,
    "editable": true
   },
   "source": [
    "### Finally, we can carry out real-time face recognition"
   ]
  },
  {
   "cell_type": "code",
   "execution_count": 19,
   "metadata": {
    "collapsed": true,
    "deletable": true,
    "editable": true
   },
   "outputs": [],
   "source": [
    "import cv2\n",
    "import pickle\n",
    "import numpy as np\n",
    "from gtts import gTTS\n",
    "import face_recognition\n",
    "from sklearn import neighbors\n",
    "from IPython.display import Audio, display"
   ]
  },
  {
   "cell_type": "code",
   "execution_count": 20,
   "metadata": {
    "collapsed": true,
    "deletable": true,
    "editable": true
   },
   "outputs": [],
   "source": [
    "# This method will greet the one whose face is detected\n",
    "def say_hi(name):\n",
    "    \n",
    "    text_to_speech = gTTS(text = 'hi ' + name, lang = 'en')\n",
    "    text_to_speech.save('name.mp3')\n",
    "    display(Audio(filename = 'name.mp3', autoplay = True))"
   ]
  },
  {
   "cell_type": "markdown",
   "metadata": {},
   "source": [
    "#### And here we go"
   ]
  },
  {
   "cell_type": "code",
   "execution_count": null,
   "metadata": {
    "collapsed": false,
    "deletable": true,
    "editable": true,
    "scrolled": true
   },
   "outputs": [],
   "source": [
    "# ===== LIGHTS (Initialize some variables) =====\n",
    "face_locations = []\n",
    "face_encodings = []\n",
    "face_names = []\n",
    "rec_prob = []\n",
    "\n",
    "welcomed_faces = []\n",
    "\n",
    "process_this_frame = True\n",
    "\n",
    "# Load the trained model\n",
    "knn_clf = pickle.load(open(\"knn_model.sav\", 'rb'))\n",
    "\n",
    "# ===== CAMERA (Get a reference to webcam #0 (the default one)) =====\n",
    "cam = cv2.VideoCapture(0)\n",
    "\n",
    "# ===== AND.... ACTION =====\n",
    "while True:\n",
    "    # Grab a single frame of video\n",
    "    ret, frame = cam.read()\n",
    "\n",
    "    # Resize frame of video to 1/4 size for faster face recognition processing\n",
    "    small_frame = cv2.resize(frame, (0, 0), fx = 0.25, fy = 0.25)\n",
    "    rgb_small_frame = small_frame[:, :, ::-1]\n",
    "\n",
    "    # Only process every other frame of video to save time\n",
    "    if process_this_frame:\n",
    "\n",
    "        # Find all the faces and face encodings in the current frame of video\n",
    "        face_locations = face_recognition.face_locations(rgb_small_frame)\n",
    "        face_encodings = face_recognition.face_encodings(rgb_small_frame, face_locations)\n",
    "\n",
    "        if (len(face_encodings) > 0):\n",
    "\n",
    "            closest_distances = knn_clf.kneighbors(face_encodings, n_neighbors = 1)\n",
    "\n",
    "            is_recognized = [closest_distances[0][i][0] <= 0.5 for i in range(len(face_locations))]\n",
    "\n",
    "            face_names = []\n",
    "            for pred, prob, loc, rec in zip(knn_clf.predict(face_encodings), knn_clf.predict_proba(face_encodings), face_locations, is_recognized):\n",
    "                if rec:\n",
    "                    face_names.append(pred)\n",
    "                    rec_prob.append('({:.1f}%)'.format(max(np.squeeze(prob))*100))\n",
    "#                         rec_prob.append(prob)\n",
    "                else:\n",
    "                    face_names.append('Unknown')\n",
    "                    rec_prob.append('')\n",
    "\n",
    "    process_this_frame = not process_this_frame\n",
    "\n",
    "    # Display the results\n",
    "    for (top, right, bottom, left), name, prob in zip(face_locations, face_names, rec_prob):\n",
    "\n",
    "        # Scale back up face locations since the frame we detected in was scaled to 1/4 size\n",
    "        top *= 4\n",
    "        right *= 4\n",
    "        bottom *= 4\n",
    "        left *= 4\n",
    "\n",
    "        # Draw a box around the face\n",
    "        cv2.rectangle(frame, (left, top), (right, bottom), (180, 100, 0), 2)\n",
    "\n",
    "        #print(name)\n",
    "        cv2.putText(frame, '{} {}'.format(name, prob), (left + 6, top), cv2.FONT_HERSHEY_DUPLEX, 1.0, (255, 255, 255), 1)\n",
    "\n",
    "        # Say hi\n",
    "        if name not in welcomed_faces:\n",
    "            if name != 'Unknown':\n",
    "                say_hi(name)\n",
    "                welcomed_faces.append(name)\n",
    "            else:\n",
    "                say_hi('')\n",
    "\n",
    "    # Display the resulting image\n",
    "    cv2.imshow('Video', frame)\n",
    "\n",
    "    # Hit 'esc' on the keyboard to quit!\n",
    "    if cv2.waitKey(1) == 27:\n",
    "        break\n",
    "\n",
    "# Release webcam\n",
    "cam.release()\n",
    "cv2.destroyAllWindows()"
   ]
  },
  {
   "cell_type": "markdown",
   "metadata": {
    "deletable": true,
    "editable": true
   },
   "source": [
    "### References\n",
    "\n",
    "- [1] [Face Recognition Based Attendance System](https://github.com/008karan/Face-recognition/blob/master/Attendace%20system.ipynb)"
   ]
  },
  {
   "cell_type": "code",
   "execution_count": null,
   "metadata": {
    "collapsed": true,
    "deletable": true,
    "editable": true
   },
   "outputs": [],
   "source": []
  }
 ],
 "metadata": {
  "kernelspec": {
   "display_name": "Python 3",
   "language": "python",
   "name": "python3"
  },
  "language_info": {
   "codemirror_mode": {
    "name": "ipython",
    "version": 3
   },
   "file_extension": ".py",
   "mimetype": "text/x-python",
   "name": "python",
   "nbconvert_exporter": "python",
   "pygments_lexer": "ipython3",
   "version": "3.5.2"
  }
 },
 "nbformat": 4,
 "nbformat_minor": 2
}
